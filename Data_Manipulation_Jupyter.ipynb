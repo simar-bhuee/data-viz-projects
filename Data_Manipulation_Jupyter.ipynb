{
 "cells": [
  {
   "cell_type": "markdown",
   "id": "88e8b811",
   "metadata": {},
   "source": [
    "# Importing Requirements"
   ]
  },
  {
   "cell_type": "code",
   "execution_count": 21,
   "id": "7f03bdbd",
   "metadata": {},
   "outputs": [
    {
     "data": {
      "text/html": [
       "<style>.container {width:100% !important; }</style>"
      ],
      "text/plain": [
       "<IPython.core.display.HTML object>"
      ]
     },
     "metadata": {},
     "output_type": "display_data"
    }
   ],
   "source": [
    "from IPython.display import display, HTML\n",
    "display(HTML(\"<style>.container {width:100% !important; }</style>\"))"
   ]
  },
  {
   "cell_type": "code",
   "execution_count": 22,
   "id": "8d03c9b0",
   "metadata": {},
   "outputs": [],
   "source": [
    "import pandas as pd\n",
    "import numpy as np\n",
    "import matplotlib.pyplot as plt\n",
    "import seaborn as sns\n",
    "import os\n",
    "%matplotlib inline"
   ]
  },
  {
   "cell_type": "markdown",
   "id": "4e4fbffd",
   "metadata": {},
   "source": [
    "# Setting Directory and Reading File"
   ]
  },
  {
   "cell_type": "code",
   "execution_count": 23,
   "id": "658da214",
   "metadata": {},
   "outputs": [],
   "source": [
    "path = \"C:/Users/simar/Desktop\"\n",
    "data_dir = os.path.join(path, 'Crowd Sourced Grocery Prices V2.xlsx')\n",
    "data_output = os.path.join(path, 'Crowd Sourced Grocery Prices.xlsx')"
   ]
  },
  {
   "cell_type": "markdown",
   "id": "d99f5f63",
   "metadata": {},
   "source": [
    "# Exploring the Data Set"
   ]
  },
  {
   "cell_type": "code",
   "execution_count": 24,
   "id": "d802d6c2",
   "metadata": {},
   "outputs": [
    {
     "data": {
      "text/plain": [
       "['Observations', 'Products']"
      ]
     },
     "execution_count": 24,
     "metadata": {},
     "output_type": "execute_result"
    }
   ],
   "source": [
    "df = pd.ExcelFile(data_dir)\n",
    "df.sheet_names"
   ]
  },
  {
   "cell_type": "code",
   "execution_count": 25,
   "id": "747e2346",
   "metadata": {},
   "outputs": [],
   "source": [
    "df_observation = pd.read_excel(data_dir, sheet_name='Observations',date_parser=True)"
   ]
  },
  {
   "cell_type": "code",
   "execution_count": 26,
   "id": "f3426328",
   "metadata": {},
   "outputs": [
    {
     "data": {
      "text/html": [
       "<div>\n",
       "<style scoped>\n",
       "    .dataframe tbody tr th:only-of-type {\n",
       "        vertical-align: middle;\n",
       "    }\n",
       "\n",
       "    .dataframe tbody tr th {\n",
       "        vertical-align: top;\n",
       "    }\n",
       "\n",
       "    .dataframe thead th {\n",
       "        text-align: right;\n",
       "    }\n",
       "</style>\n",
       "<table border=\"1\" class=\"dataframe\">\n",
       "  <thead>\n",
       "    <tr style=\"text-align: right;\">\n",
       "      <th></th>\n",
       "      <th>Country</th>\n",
       "      <th>City</th>\n",
       "      <th>Obs Date</th>\n",
       "      <th>Product Code</th>\n",
       "      <th>Quantity</th>\n",
       "      <th>Price</th>\n",
       "    </tr>\n",
       "  </thead>\n",
       "  <tbody>\n",
       "    <tr>\n",
       "      <th>0</th>\n",
       "      <td>Kenya</td>\n",
       "      <td>Eldoret</td>\n",
       "      <td>2009-01-01 00:00:00</td>\n",
       "      <td>52.0</td>\n",
       "      <td>1 kg</td>\n",
       "      <td>11.92</td>\n",
       "    </tr>\n",
       "    <tr>\n",
       "      <th>1</th>\n",
       "      <td>Pakistan</td>\n",
       "      <td>Attock</td>\n",
       "      <td>2009-01-01 00:00:00</td>\n",
       "      <td>44.0</td>\n",
       "      <td>1 kg</td>\n",
       "      <td>9.36</td>\n",
       "    </tr>\n",
       "    <tr>\n",
       "      <th>2</th>\n",
       "      <td>India</td>\n",
       "      <td>Nashik</td>\n",
       "      <td>2009-01-01 00:00:00</td>\n",
       "      <td>47.0</td>\n",
       "      <td>1 kg</td>\n",
       "      <td>6.47</td>\n",
       "    </tr>\n",
       "    <tr>\n",
       "      <th>3</th>\n",
       "      <td>Kenya</td>\n",
       "      <td>Eldoret</td>\n",
       "      <td>2009-01-01 00:00:00</td>\n",
       "      <td>52.0</td>\n",
       "      <td>1 kg</td>\n",
       "      <td>5.91</td>\n",
       "    </tr>\n",
       "    <tr>\n",
       "      <th>4</th>\n",
       "      <td>India</td>\n",
       "      <td>Nashik</td>\n",
       "      <td>2009-01-01 00:00:00</td>\n",
       "      <td>62.0</td>\n",
       "      <td>100 g</td>\n",
       "      <td>1.80</td>\n",
       "    </tr>\n",
       "  </tbody>\n",
       "</table>\n",
       "</div>"
      ],
      "text/plain": [
       "    Country     City             Obs Date  Product Code Quantity  Price\n",
       "0     Kenya  Eldoret  2009-01-01 00:00:00          52.0     1 kg  11.92\n",
       "1  Pakistan   Attock  2009-01-01 00:00:00          44.0     1 kg   9.36\n",
       "2     India   Nashik  2009-01-01 00:00:00          47.0     1 kg   6.47\n",
       "3     Kenya  Eldoret  2009-01-01 00:00:00          52.0     1 kg   5.91\n",
       "4     India   Nashik  2009-01-01 00:00:00          62.0    100 g   1.80"
      ]
     },
     "execution_count": 26,
     "metadata": {},
     "output_type": "execute_result"
    }
   ],
   "source": [
    "df_observation.head()"
   ]
  },
  {
   "cell_type": "code",
   "execution_count": 27,
   "id": "6c7d8012",
   "metadata": {},
   "outputs": [],
   "source": [
    "df_products = pd.read_excel(data_dir, sheet_name='Products')"
   ]
  },
  {
   "cell_type": "code",
   "execution_count": 28,
   "id": "ec6ce7aa",
   "metadata": {},
   "outputs": [
    {
     "data": {
      "text/html": [
       "<div>\n",
       "<style scoped>\n",
       "    .dataframe tbody tr th:only-of-type {\n",
       "        vertical-align: middle;\n",
       "    }\n",
       "\n",
       "    .dataframe tbody tr th {\n",
       "        vertical-align: top;\n",
       "    }\n",
       "\n",
       "    .dataframe thead th {\n",
       "        text-align: right;\n",
       "    }\n",
       "</style>\n",
       "<table border=\"1\" class=\"dataframe\">\n",
       "  <thead>\n",
       "    <tr style=\"text-align: right;\">\n",
       "      <th></th>\n",
       "      <th>Product Code</th>\n",
       "      <th>Product Name</th>\n",
       "    </tr>\n",
       "  </thead>\n",
       "  <tbody>\n",
       "    <tr>\n",
       "      <th>0</th>\n",
       "      <td>11</td>\n",
       "      <td>Rice, long grain</td>\n",
       "    </tr>\n",
       "    <tr>\n",
       "      <th>1</th>\n",
       "      <td>12</td>\n",
       "      <td>Rice, white</td>\n",
       "    </tr>\n",
       "    <tr>\n",
       "      <th>2</th>\n",
       "      <td>13</td>\n",
       "      <td>Cornflakes, Kellogg's</td>\n",
       "    </tr>\n",
       "    <tr>\n",
       "      <th>3</th>\n",
       "      <td>14</td>\n",
       "      <td>Flour, wheat</td>\n",
       "    </tr>\n",
       "    <tr>\n",
       "      <th>4</th>\n",
       "      <td>15</td>\n",
       "      <td>Flour, maize</td>\n",
       "    </tr>\n",
       "  </tbody>\n",
       "</table>\n",
       "</div>"
      ],
      "text/plain": [
       "   Product Code           Product Name\n",
       "0            11       Rice, long grain\n",
       "1            12            Rice, white\n",
       "2            13  Cornflakes, Kellogg's\n",
       "3            14           Flour, wheat\n",
       "4            15           Flour, maize"
      ]
     },
     "execution_count": 28,
     "metadata": {},
     "output_type": "execute_result"
    }
   ],
   "source": [
    "df_products.head()"
   ]
  },
  {
   "cell_type": "markdown",
   "id": "7adce0cc",
   "metadata": {},
   "source": [
    "# Data Manipulation"
   ]
  },
  {
   "cell_type": "code",
   "execution_count": 29,
   "id": "5996c08f",
   "metadata": {},
   "outputs": [
    {
     "name": "stdout",
     "output_type": "stream",
     "text": [
      "<class 'pandas.core.frame.DataFrame'>\n",
      "RangeIndex: 961797 entries, 0 to 961796\n",
      "Data columns (total 6 columns):\n",
      " #   Column        Non-Null Count   Dtype  \n",
      "---  ------        --------------   -----  \n",
      " 0   Country       961732 non-null  object \n",
      " 1   City          961732 non-null  object \n",
      " 2   Obs Date      961732 non-null  object \n",
      " 3   Product Code  961732 non-null  float64\n",
      " 4   Quantity      961732 non-null  object \n",
      " 5   Price         931766 non-null  float64\n",
      "dtypes: float64(2), object(4)\n",
      "memory usage: 44.0+ MB\n"
     ]
    }
   ],
   "source": [
    "df_observation.info()"
   ]
  },
  {
   "cell_type": "code",
   "execution_count": 30,
   "id": "a3a2457f",
   "metadata": {},
   "outputs": [
    {
     "data": {
      "text/plain": [
       "Country            65\n",
       "City               65\n",
       "Obs Date           65\n",
       "Product Code       65\n",
       "Quantity           65\n",
       "Price           30031\n",
       "dtype: int64"
      ]
     },
     "execution_count": 30,
     "metadata": {},
     "output_type": "execute_result"
    }
   ],
   "source": [
    "df_observation.isnull().sum()"
   ]
  },
  {
   "cell_type": "code",
   "execution_count": 31,
   "id": "1581b755",
   "metadata": {},
   "outputs": [],
   "source": [
    "df_observation.dropna(axis = 0, subset=['Country', 'City', 'Obs Date', 'Product Code', 'Quantity'], inplace= True)"
   ]
  },
  {
   "cell_type": "code",
   "execution_count": 32,
   "id": "63c42b7b",
   "metadata": {},
   "outputs": [
    {
     "data": {
      "text/plain": [
       "Country             0\n",
       "City                0\n",
       "Obs Date            0\n",
       "Product Code        0\n",
       "Quantity            0\n",
       "Price           29966\n",
       "dtype: int64"
      ]
     },
     "execution_count": 32,
     "metadata": {},
     "output_type": "execute_result"
    }
   ],
   "source": [
    "df_observation.isnull().sum()"
   ]
  },
  {
   "cell_type": "code",
   "execution_count": 33,
   "id": "521d7540",
   "metadata": {},
   "outputs": [
    {
     "name": "stdout",
     "output_type": "stream",
     "text": [
      "<class 'pandas.core.frame.DataFrame'>\n",
      "RangeIndex: 30 entries, 0 to 29\n",
      "Data columns (total 2 columns):\n",
      " #   Column        Non-Null Count  Dtype \n",
      "---  ------        --------------  ----- \n",
      " 0   Product Code  30 non-null     int64 \n",
      " 1   Product Name  30 non-null     object\n",
      "dtypes: int64(1), object(1)\n",
      "memory usage: 612.0+ bytes\n"
     ]
    }
   ],
   "source": [
    "df_products.info()"
   ]
  },
  {
   "cell_type": "markdown",
   "id": "25971422",
   "metadata": {},
   "source": [
    "# Inputing the Blank Cells in the Price Column"
   ]
  },
  {
   "cell_type": "code",
   "execution_count": 34,
   "id": "0ef52786",
   "metadata": {},
   "outputs": [
    {
     "data": {
      "image/png": "[encoded data removed]",
      "text/plain": [
       "<Figure size 2000x800 with 1 Axes>"
      ]
     },
     "metadata": {},
     "output_type": "display_data"
    },
    {
     "name": "stdout",
     "output_type": "stream",
     "text": [
      "Mean - 10.563621484227673\n",
      "Median - 8.91\n"
     ]
    }
   ],
   "source": [
    "plt.figure(figsize = (20,8))\n",
    "plt.hist(df_observation.Price,bins = 27)\n",
    "plt.show()\n",
    "print(\"Mean - \" + str(df_observation.Price.mean()))\n",
    "print(\"Median - \" + str(df_observation.Price.median()))"
   ]
  },
  {
   "cell_type": "code",
   "execution_count": 35,
   "id": "3eefee06",
   "metadata": {},
   "outputs": [],
   "source": [
    "df_observation.Price.fillna(df_observation.Price.median(), inplace = True)"
   ]
  },
  {
   "cell_type": "code",
   "execution_count": 36,
   "id": "4e39bacb",
   "metadata": {},
   "outputs": [
    {
     "data": {
      "text/plain": [
       "Country         0\n",
       "City            0\n",
       "Obs Date        0\n",
       "Product Code    0\n",
       "Quantity        0\n",
       "Price           0\n",
       "dtype: int64"
      ]
     },
     "execution_count": 36,
     "metadata": {},
     "output_type": "execute_result"
    }
   ],
   "source": [
    "df_observation.isna().sum()"
   ]
  },
  {
   "cell_type": "markdown",
   "id": "138e8a0a",
   "metadata": {},
   "source": [
    "# Removal of Duplicate Values"
   ]
  },
  {
   "cell_type": "code",
   "execution_count": 37,
   "id": "c4ed3190",
   "metadata": {},
   "outputs": [
    {
     "data": {
      "text/plain": [
       "['Kenya',\n",
       " 'Pakistan',\n",
       " 'India',\n",
       " 'Bangladesh',\n",
       " 'Indonesia',\n",
       " 'Nigeria',\n",
       " 'Philippines',\n",
       " 'Brazil',\n",
       " 'Brazel',\n",
       " 'Indonseia',\n",
       " 'Phillippines']"
      ]
     },
     "execution_count": 37,
     "metadata": {},
     "output_type": "execute_result"
    }
   ],
   "source": [
    "list(df_observation.Country.unique())"
   ]
  },
  {
   "cell_type": "code",
   "execution_count": 39,
   "id": "3f91410a",
   "metadata": {},
   "outputs": [],
   "source": [
    "df_observation.Country = df_observation.Country.map({'Kenya' : 'Kenya', 'Pakistan': 'Pakistan',\n",
    "                                                    'India': 'India', 'Bangladesh': 'Bangladesh', 'Indonesia': 'Indonesia',\n",
    "                                                    'Nigeria': 'Nigeria', 'Philippines': 'Philippines', 'Brazil': 'Brazil',\n",
    "                                                    'Brazel': 'Brazil', 'Indonseia': 'Indonesia', 'Phillippines': 'Philippines'})"
   ]
  },
  {
   "cell_type": "code",
   "execution_count": 40,
   "id": "70ad1c05",
   "metadata": {},
   "outputs": [
    {
     "data": {
      "text/plain": [
       "['Kenya',\n",
       " 'Pakistan',\n",
       " 'India',\n",
       " 'Bangladesh',\n",
       " 'Indonesia',\n",
       " 'Nigeria',\n",
       " 'Philippines',\n",
       " 'Brazil']"
      ]
     },
     "execution_count": 40,
     "metadata": {},
     "output_type": "execute_result"
    }
   ],
   "source": [
    "list(df_observation.Country.unique())"
   ]
  },
  {
   "cell_type": "code",
   "execution_count": 41,
   "id": "57c48a45",
   "metadata": {},
   "outputs": [
    {
     "data": {
      "text/plain": [
       "14397"
      ]
     },
     "execution_count": 41,
     "metadata": {},
     "output_type": "execute_result"
    }
   ],
   "source": [
    "df_observation.duplicated().sum()"
   ]
  },
  {
   "cell_type": "code",
   "execution_count": 53,
   "id": "ce755577",
   "metadata": {},
   "outputs": [],
   "source": [
    "dfObj = pd.DataFrame(df_observation)"
   ]
  },
  {
   "cell_type": "code",
   "execution_count": 55,
   "id": "9f1dd079",
   "metadata": {},
   "outputs": [
    {
     "name": "stdout",
     "output_type": "stream",
     "text": [
      "Duplicate Rows except first occurrence based on all columns are :\n",
      "           Country        City             Obs Date  Product Code Quantity  \\\n",
      "121       Pakistan    Sargodha  2009-01-20 00:00:00          44.0     1 kg   \n",
      "127       Pakistan  Gujranwala  2009-01-20 00:00:00          44.0     1 kg   \n",
      "130       Pakistan    Sargodha  2009-01-20 00:00:00          52.0     1 kg   \n",
      "131       Pakistan  Gujranwala  2009-01-20 00:00:00          52.0     1 kg   \n",
      "141       Pakistan     Karachi                39834          44.0     1 kg   \n",
      "...            ...         ...                  ...           ...      ...   \n",
      "961079     Nigeria       Abuja  2009-03-29 00:00:00          22.0     1 kg   \n",
      "961146       Kenya     Nairobi  2009-04-22 00:00:00          23.0     1 kg   \n",
      "961159       Kenya     Nairobi  2009-04-24 00:00:00          24.0     1 kg   \n",
      "961424  Bangladesh       Dhaka  2009-04-06 00:00:00          24.0     1 kg   \n",
      "961437  Bangladesh       Dhaka  2009-03-28 00:00:00          24.0     1 kg   \n",
      "\n",
      "        Price  \n",
      "121      8.91  \n",
      "127      8.91  \n",
      "130      8.91  \n",
      "131      8.91  \n",
      "141      8.91  \n",
      "...       ...  \n",
      "961079  19.25  \n",
      "961146   0.33  \n",
      "961159   7.64  \n",
      "961424  19.17  \n",
      "961437   3.14  \n",
      "\n",
      "[14397 rows x 6 columns]\n"
     ]
    }
   ],
   "source": [
    "# Select duplicate rows except first occurrence based on all columns\n",
    "duplicateRowsDF = dfObj[dfObj.duplicated()]\n",
    "\n",
    "print(\"Duplicate Rows except first occurrence based on all columns are :\")\n",
    "print(duplicateRowsDF)"
   ]
  },
  {
   "cell_type": "code",
   "execution_count": 56,
   "id": "bf25d195",
   "metadata": {},
   "outputs": [],
   "source": [
    "df_observation.drop_duplicates(subset=df_observation.columns,inplace=True)"
   ]
  },
  {
   "cell_type": "code",
   "execution_count": 57,
   "id": "336388c3",
   "metadata": {},
   "outputs": [
    {
     "data": {
      "text/plain": [
       "0"
      ]
     },
     "execution_count": 57,
     "metadata": {},
     "output_type": "execute_result"
    }
   ],
   "source": [
    "df_observation.duplicated().sum()"
   ]
  },
  {
   "cell_type": "markdown",
   "id": "c50008fe",
   "metadata": {},
   "source": [
    "# Merging Both Data Sets"
   ]
  },
  {
   "cell_type": "code",
   "execution_count": 58,
   "id": "53ff2409",
   "metadata": {},
   "outputs": [],
   "source": [
    "df_full = pd.merge(df_observation,df_products,how = 'outer')"
   ]
  },
  {
   "cell_type": "code",
   "execution_count": 59,
   "id": "799e3916",
   "metadata": {},
   "outputs": [
    {
     "data": {
      "text/html": [
       "<div>\n",
       "<style scoped>\n",
       "    .dataframe tbody tr th:only-of-type {\n",
       "        vertical-align: middle;\n",
       "    }\n",
       "\n",
       "    .dataframe tbody tr th {\n",
       "        vertical-align: top;\n",
       "    }\n",
       "\n",
       "    .dataframe thead th {\n",
       "        text-align: right;\n",
       "    }\n",
       "</style>\n",
       "<table border=\"1\" class=\"dataframe\">\n",
       "  <thead>\n",
       "    <tr style=\"text-align: right;\">\n",
       "      <th></th>\n",
       "      <th>Country</th>\n",
       "      <th>City</th>\n",
       "      <th>Obs Date</th>\n",
       "      <th>Product Code</th>\n",
       "      <th>Quantity</th>\n",
       "      <th>Price</th>\n",
       "      <th>Product Name</th>\n",
       "    </tr>\n",
       "  </thead>\n",
       "  <tbody>\n",
       "    <tr>\n",
       "      <th>0</th>\n",
       "      <td>Kenya</td>\n",
       "      <td>Eldoret</td>\n",
       "      <td>2009-01-01 00:00:00</td>\n",
       "      <td>52.0</td>\n",
       "      <td>1 kg</td>\n",
       "      <td>11.92</td>\n",
       "      <td>Cooking salt</td>\n",
       "    </tr>\n",
       "    <tr>\n",
       "      <th>1</th>\n",
       "      <td>Kenya</td>\n",
       "      <td>Eldoret</td>\n",
       "      <td>2009-01-01 00:00:00</td>\n",
       "      <td>52.0</td>\n",
       "      <td>1 kg</td>\n",
       "      <td>5.91</td>\n",
       "      <td>Cooking salt</td>\n",
       "    </tr>\n",
       "    <tr>\n",
       "      <th>2</th>\n",
       "      <td>Kenya</td>\n",
       "      <td>Eldoret</td>\n",
       "      <td>2009-01-02 00:00:00</td>\n",
       "      <td>52.0</td>\n",
       "      <td>1 kg</td>\n",
       "      <td>16.50</td>\n",
       "      <td>Cooking salt</td>\n",
       "    </tr>\n",
       "    <tr>\n",
       "      <th>3</th>\n",
       "      <td>Kenya</td>\n",
       "      <td>Eldoret</td>\n",
       "      <td>2009-01-02 00:00:00</td>\n",
       "      <td>52.0</td>\n",
       "      <td>1 kg</td>\n",
       "      <td>9.77</td>\n",
       "      <td>Cooking salt</td>\n",
       "    </tr>\n",
       "    <tr>\n",
       "      <th>4</th>\n",
       "      <td>Pakistan</td>\n",
       "      <td>Rawalpindi</td>\n",
       "      <td>2009-01-03 00:00:00</td>\n",
       "      <td>52.0</td>\n",
       "      <td>1 kg</td>\n",
       "      <td>17.80</td>\n",
       "      <td>Cooking salt</td>\n",
       "    </tr>\n",
       "  </tbody>\n",
       "</table>\n",
       "</div>"
      ],
      "text/plain": [
       "    Country        City             Obs Date  Product Code Quantity  Price  \\\n",
       "0     Kenya     Eldoret  2009-01-01 00:00:00          52.0     1 kg  11.92   \n",
       "1     Kenya     Eldoret  2009-01-01 00:00:00          52.0     1 kg   5.91   \n",
       "2     Kenya     Eldoret  2009-01-02 00:00:00          52.0     1 kg  16.50   \n",
       "3     Kenya     Eldoret  2009-01-02 00:00:00          52.0     1 kg   9.77   \n",
       "4  Pakistan  Rawalpindi  2009-01-03 00:00:00          52.0     1 kg  17.80   \n",
       "\n",
       "   Product Name  \n",
       "0  Cooking salt  \n",
       "1  Cooking salt  \n",
       "2  Cooking salt  \n",
       "3  Cooking salt  \n",
       "4  Cooking salt  "
      ]
     },
     "execution_count": 59,
     "metadata": {},
     "output_type": "execute_result"
    }
   ],
   "source": [
    "df_full.head()"
   ]
  },
  {
   "cell_type": "code",
   "execution_count": 60,
   "id": "ae2a8a7f",
   "metadata": {},
   "outputs": [],
   "source": [
    "df_full.sort_values(by = 'Country',inplace = True)"
   ]
  },
  {
   "cell_type": "code",
   "execution_count": 61,
   "id": "a2be79fd",
   "metadata": {},
   "outputs": [
    {
     "data": {
      "text/html": [
       "<div>\n",
       "<style scoped>\n",
       "    .dataframe tbody tr th:only-of-type {\n",
       "        vertical-align: middle;\n",
       "    }\n",
       "\n",
       "    .dataframe tbody tr th {\n",
       "        vertical-align: top;\n",
       "    }\n",
       "\n",
       "    .dataframe thead th {\n",
       "        text-align: right;\n",
       "    }\n",
       "</style>\n",
       "<table border=\"1\" class=\"dataframe\">\n",
       "  <thead>\n",
       "    <tr style=\"text-align: right;\">\n",
       "      <th></th>\n",
       "      <th>Country</th>\n",
       "      <th>City</th>\n",
       "      <th>Obs Date</th>\n",
       "      <th>Product Code</th>\n",
       "      <th>Quantity</th>\n",
       "      <th>Price</th>\n",
       "      <th>Product Name</th>\n",
       "    </tr>\n",
       "  </thead>\n",
       "  <tbody>\n",
       "    <tr>\n",
       "      <th>237535</th>\n",
       "      <td>Bangladesh</td>\n",
       "      <td>Dhaka</td>\n",
       "      <td>2012-04-16 00:00:00</td>\n",
       "      <td>14.0</td>\n",
       "      <td>1 kg</td>\n",
       "      <td>0.96193</td>\n",
       "      <td>Flour, wheat</td>\n",
       "    </tr>\n",
       "    <tr>\n",
       "      <th>256654</th>\n",
       "      <td>Bangladesh</td>\n",
       "      <td>Chittagong</td>\n",
       "      <td>2011-02-27 00:00:00</td>\n",
       "      <td>32.0</td>\n",
       "      <td>6 pc</td>\n",
       "      <td>6.75000</td>\n",
       "      <td>Eggs</td>\n",
       "    </tr>\n",
       "    <tr>\n",
       "      <th>692408</th>\n",
       "      <td>Bangladesh</td>\n",
       "      <td>Chittagong</td>\n",
       "      <td>2010-02-16 00:00:00</td>\n",
       "      <td>31.0</td>\n",
       "      <td>1 L</td>\n",
       "      <td>16.76000</td>\n",
       "      <td>Milk</td>\n",
       "    </tr>\n",
       "    <tr>\n",
       "      <th>692405</th>\n",
       "      <td>Bangladesh</td>\n",
       "      <td>Dhaka</td>\n",
       "      <td>2010-02-16 00:00:00</td>\n",
       "      <td>31.0</td>\n",
       "      <td>1 L</td>\n",
       "      <td>17.31000</td>\n",
       "      <td>Milk</td>\n",
       "    </tr>\n",
       "    <tr>\n",
       "      <th>692403</th>\n",
       "      <td>Bangladesh</td>\n",
       "      <td>Khulna</td>\n",
       "      <td>2010-02-16 00:00:00</td>\n",
       "      <td>31.0</td>\n",
       "      <td>1 L</td>\n",
       "      <td>17.59000</td>\n",
       "      <td>Milk</td>\n",
       "    </tr>\n",
       "  </tbody>\n",
       "</table>\n",
       "</div>"
      ],
      "text/plain": [
       "           Country        City             Obs Date  Product Code Quantity  \\\n",
       "237535  Bangladesh       Dhaka  2012-04-16 00:00:00          14.0     1 kg   \n",
       "256654  Bangladesh  Chittagong  2011-02-27 00:00:00          32.0     6 pc   \n",
       "692408  Bangladesh  Chittagong  2010-02-16 00:00:00          31.0      1 L   \n",
       "692405  Bangladesh       Dhaka  2010-02-16 00:00:00          31.0      1 L   \n",
       "692403  Bangladesh      Khulna  2010-02-16 00:00:00          31.0      1 L   \n",
       "\n",
       "           Price  Product Name  \n",
       "237535   0.96193  Flour, wheat  \n",
       "256654   6.75000          Eggs  \n",
       "692408  16.76000          Milk  \n",
       "692405  17.31000          Milk  \n",
       "692403  17.59000          Milk  "
      ]
     },
     "execution_count": 61,
     "metadata": {},
     "output_type": "execute_result"
    }
   ],
   "source": [
    "df_full.head()"
   ]
  },
  {
   "cell_type": "markdown",
   "id": "33c09f5b",
   "metadata": {},
   "source": [
    "# Export"
   ]
  },
  {
   "cell_type": "code",
   "execution_count": 63,
   "id": "780147ae",
   "metadata": {},
   "outputs": [],
   "source": [
    "df_full.to_excel(data_output,columns=['Country', 'City', 'Obs Date', 'Product Code', 'Quantity', 'Price', 'Product Name'])"
   ]
  },
  {
   "cell_type": "code",
   "execution_count": 64,
   "id": "7d0b8465",
   "metadata": {},
   "outputs": [],
   "source": [
    "path = \"C:/Users/simar/Desktop\"\n",
    "data_dir = os.path.join(path, 'Crowd Sourced Grocery Prices V2.xlsx')\n",
    "data_output = os.path.join(path, 'Crowd Sourced Grocery Prices.xlsx')"
   ]
  }
 ],
 "metadata": {
  "kernelspec": {
   "display_name": "Python 3 (ipykernel)",
   "language": "python",
   "name": "python3"
  },
  "language_info": {
   "codemirror_mode": {
    "name": "ipython",
    "version": 3
   },
   "file_extension": ".py",
   "mimetype": "text/x-python",
   "name": "python",
   "nbconvert_exporter": "python",
   "pygments_lexer": "ipython3",
   "version": "3.11.4"
  }
 },
 "nbformat": 4,
 "nbformat_minor": 5
}
